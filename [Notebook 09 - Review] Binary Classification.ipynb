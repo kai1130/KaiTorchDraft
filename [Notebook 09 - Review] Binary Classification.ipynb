{
 "cells": [
  {
   "cell_type": "markdown",
   "id": "840cd47a",
   "metadata": {},
   "source": [
    "# Notebook 09 - Binary Classification\n",
    "\n",
    "__[Example Notebook]__\n",
    "\n",
    "Note: the techniques I'm using to prepare the data aren't best practices, like:\n",
    "\n",
    "- using max-scaling to normalize data\n",
    "- the way I train test split\n",
    "- not shuffling the test data\n",
    "\n",
    "I'm just using quick and easy ways to prepare this data for use in the model, our goal here is just to showcase a working neural network :)"
   ]
  },
  {
   "cell_type": "markdown",
   "id": "d51f9884",
   "metadata": {},
   "source": [
    "# repalce with moon data"
   ]
  },
  {
   "cell_type": "code",
   "execution_count": 1,
   "id": "f5edea3b",
   "metadata": {},
   "outputs": [],
   "source": [
    "import kaitorch\n",
    "\n",
    "from kaitorch.models import Sequential\n",
    "from kaitorch.layers import Dense, Dropout\n",
    "from kaitorch.optimizers import SGD, Momentum, Nesterov\n",
    "from kaitorch.losses import MeanSquaredError, BinaryCrossentropy, CategoricalCrossentropy\n",
    "from kaitorch.graph import plot_model\n",
    "\n",
    "from kaitorch.utils import as_onehot"
   ]
  },
  {
   "cell_type": "markdown",
   "id": "3e59bd5a",
   "metadata": {},
   "source": [
    "#### Loading the Iris Dataset"
   ]
  },
  {
   "cell_type": "code",
   "execution_count": 2,
   "id": "1ef5db29",
   "metadata": {},
   "outputs": [],
   "source": [
    "from sklearn.datasets import load_iris\n",
    "data = load_iris()"
   ]
  },
  {
   "cell_type": "markdown",
   "id": "4e385a26",
   "metadata": {},
   "source": [
    "Using only the first 100 samples - the Iris dataset contains 3 classes each with 50 samples. So in order to perform binary classification we remove a class."
   ]
  },
  {
   "cell_type": "code",
   "execution_count": 3,
   "id": "99481bd3",
   "metadata": {},
   "outputs": [],
   "source": [
    "data['data'] = data['data'][:100]\n",
    "data['data'] = data['data']/data['data'].max(axis=0)\n",
    "data['target'] = data['target'][:100]"
   ]
  },
  {
   "cell_type": "markdown",
   "id": "6754c117",
   "metadata": {},
   "source": [
    "Imports for graphing, the Iris dataset has 4 input features and we can only visualize using 2 dimensions so we perform dimensionality reduction using PCA."
   ]
  },
  {
   "cell_type": "code",
   "execution_count": 4,
   "id": "841ffa30",
   "metadata": {},
   "outputs": [],
   "source": [
    "import matplotlib.pyplot as plt\n",
    "from matplotlib import colors\n",
    "import matplotlib.cm as cmx\n",
    "from sklearn.decomposition import PCA"
   ]
  },
  {
   "cell_type": "markdown",
   "id": "ea1666b5",
   "metadata": {},
   "source": [
    "__Plotting the data__"
   ]
  },
  {
   "cell_type": "code",
   "execution_count": 5,
   "id": "e3ecb350",
   "metadata": {},
   "outputs": [],
   "source": [
    "def plot_iris(data): \n",
    "\n",
    "    X_pca = PCA(n_components=2).fit_transform(data.data)\n",
    "    y = data.target\n",
    "\n",
    "    plt.figure(figsize=(10,8))\n",
    "    hot = plt.get_cmap('hot')\n",
    "    cNorm  = colors.Normalize(vmin=0, vmax=len(data.target_names))\n",
    "    scalarMap = cmx.ScalarMappable(norm=cNorm, cmap=hot)\n",
    "\n",
    "    for i in range(len(data.target_names[:2])):\n",
    "        s, e = i*50, (i+1)*50\n",
    "        plt.scatter(\n",
    "            X_pca[s:e, 0],\n",
    "            X_pca[s:e, 1],\n",
    "            s=50,\n",
    "            color=scalarMap.to_rgba(i),\n",
    "            label=data.target_names[i])\n",
    "\n",
    "    plt.title(\"Iris Dataset after PCA (n_components=2)\")\n",
    "    plt.xlabel(\"1st eigenvector\")\n",
    "    plt.ylabel(\"2nd eigenvector\")\n",
    "    plt.legend(loc='lower right')\n",
    "\n",
    "    plt.show()"
   ]
  },
  {
   "cell_type": "code",
   "execution_count": 6,
   "id": "d3f1ecc7",
   "metadata": {},
   "outputs": [
    {
     "data": {
      "image/png": "[encoded data removed]",
      "text/plain": [
       "<Figure size 720x576 with 1 Axes>"
      ]
     },
     "metadata": {
      "needs_background": "light"
     },
     "output_type": "display_data"
    }
   ],
   "source": [
    "plot_iris(data)"
   ]
  },
  {
   "cell_type": "markdown",
   "id": "be448c00",
   "metadata": {},
   "source": [
    "__Train/Test split__"
   ]
  },
  {
   "cell_type": "code",
   "execution_count": 7,
   "id": "4f76b3a8",
   "metadata": {},
   "outputs": [],
   "source": [
    "X_train = list(data['data'][:40]) + list(data['data'][50:90])\n",
    "y_train = list(data['target'][:40]) + list(data['target'][50:90])\n",
    "\n",
    "X_test = list(data['data'][40:50]) + list(data['data'][90:100])\n",
    "y_test = list(data['target'][40:50]) + list(data['target'][90:100])"
   ]
  },
  {
   "cell_type": "markdown",
   "id": "9df39ad7",
   "metadata": {},
   "source": [
    "__Shuffle training data__"
   ]
  },
  {
   "cell_type": "code",
   "execution_count": 8,
   "id": "7f807ba8",
   "metadata": {},
   "outputs": [],
   "source": [
    "import random\n",
    "\n",
    "shuffled_order = list(range(len(X_train)))\n",
    "random.shuffle(shuffled_order)\n",
    "\n",
    "X_train = [X_train[i] for i in shuffled_order]\n",
    "y_train = [y_train[i] for i in shuffled_order]"
   ]
  },
  {
   "cell_type": "markdown",
   "id": "a155306b",
   "metadata": {},
   "source": [
    "__Building our model__\n",
    "\n",
    "Let's try making a network with 3 hidden Dense layers with 16 units each. Each one using a `sigmoid` activation and `glorot_uniform` initializer (a commonly used pairing). Let's also use a 0.15 dropout between each hidden layer.\n",
    "\n",
    "Since we are performing binary classification, we'll use a Dense output layer with 1 unit and a `sigmoid` activation, so that the final node takes a value between 0 and 1.\n",
    "\n",
    "Lastly, we'll compile it with a `Momentum` optimizer and `BinaryCrossentropy` loss function."
   ]
  },
  {
   "cell_type": "code",
   "execution_count": 22,
   "id": "143eb211",
   "metadata": {},
   "outputs": [],
   "source": [
    "model = Sequential()\n",
    "\n",
    "model.add(Dense(20, activation='ReLU', initializer='glorot_uniform'))\n",
    "model.add(Dropout(0.15))\n",
    "model.add(Dense(20, activation='ReLU', initializer='glorot_uniform'))\n",
    "model.add(Dropout(0.15))\n",
    "model.add(Dense(20, activation='ReLU', initializer='glorot_uniform'))\n",
    "model.add(Dense(4, activation='ReLU', initializer='glorot_uniform'))\n",
    "model.add(Dense(1, activation='sigmoid'))\n",
    "\n",
    "model.compile(\n",
    "    optimizer=kaitorch.optimizers.Adam(lr=0.03),\n",
    "    loss=kaitorch.losses.BinaryCrossentropy()\n",
    ")"
   ]
  },
  {
   "cell_type": "code",
   "execution_count": 23,
   "id": "3e935452",
   "metadata": {},
   "outputs": [
    {
     "name": "stdout",
     "output_type": "stream",
     "text": [
      "___________________________________________________________________________________________________________________\n",
      "Layer (params)                                                           Output Shape     Params = Weights + Biases\n",
      "===================================================================================================================\n",
      "Dense(units=20, activation=ReLU, initializer=glorot_uniform)             (None, 20)       100      80        20    \n",
      "___________________________________________________________________________________________________________________\n",
      "Dropout(dropout_rate=0.15)                                               (None, 20)       0        0         0     \n",
      "___________________________________________________________________________________________________________________\n",
      "Dense(units=20, activation=ReLU, initializer=glorot_uniform)             (None, 20)       420      400       20    \n",
      "___________________________________________________________________________________________________________________\n",
      "Dropout(dropout_rate=0.15)                                               (None, 20)       0        0         0     \n",
      "___________________________________________________________________________________________________________________\n",
      "Dense(units=20, activation=ReLU, initializer=glorot_uniform)             (None, 20)       420      400       20    \n",
      "___________________________________________________________________________________________________________________\n",
      "Dense(units=4, activation=ReLU, initializer=glorot_uniform)              (None, 4)        84       80        4     \n",
      "___________________________________________________________________________________________________________________\n",
      "Dense(units=1, activation=sigmoid, initializer=glorot_uniform)           (None, 1)        5        4         1     \n",
      "===================================================================================================================\n",
      "Total Params: 1029\n",
      "___________________________________________________________________________________________________________________\n"
     ]
    }
   ],
   "source": [
    "model.build(input_size=4)\n",
    "model.summary()"
   ]
  },
  {
   "cell_type": "code",
   "execution_count": 24,
   "id": "d63f27f7",
   "metadata": {},
   "outputs": [
    {
     "name": "stderr",
     "output_type": "stream",
     "text": [
      "Epoch   1/30: 100%|████████████████████████████████████████| 80/80 [00:03<00:00, Train Loss: 0.7094]\n",
      "Epoch   2/30: 100%|████████████████████████████████████████| 80/80 [00:02<00:00, Train Loss: 0.6741]\n",
      "Epoch   3/30: 100%|████████████████████████████████████████| 80/80 [00:02<00:00, Train Loss: 0.6495]\n",
      "Epoch   4/30: 100%|████████████████████████████████████████| 80/80 [00:02<00:00, Train Loss: 0.5947]\n",
      "Epoch   5/30: 100%|████████████████████████████████████████| 80/80 [00:02<00:00, Train Loss: 0.4426]\n",
      "Epoch   6/30: 100%|████████████████████████████████████████| 80/80 [00:02<00:00, Train Loss: 0.2075]\n",
      "Epoch   7/30: 100%|████████████████████████████████████████| 80/80 [00:04<00:00, Train Loss: 0.1973]\n",
      "Epoch   8/30: 100%|████████████████████████████████████████| 80/80 [00:10<00:00, Train Loss: 0.1410]\n",
      "Epoch   9/30: 100%|████████████████████████████████████████| 80/80 [00:02<00:00, Train Loss: 0.0111]\n",
      "Epoch  10/30: 100%|████████████████████████████████████████| 80/80 [00:02<00:00, Train Loss: 0.2515]\n",
      "Epoch  11/30: 100%|████████████████████████████████████████| 80/80 [00:02<00:00, Train Loss: 0.0726]\n",
      "Epoch  12/30: 100%|████████████████████████████████████████| 80/80 [00:03<00:00, Train Loss: 1.0215]\n",
      "Epoch  13/30: 100%|████████████████████████████████████████| 80/80 [00:03<00:00, Train Loss: 0.0493]\n",
      "Epoch  14/30: 100%|████████████████████████████████████████| 80/80 [00:03<00:00, Train Loss: 0.5317]\n",
      "Epoch  15/30: 100%|████████████████████████████████████████| 80/80 [00:02<00:00, Train Loss: 4.8120]\n",
      "Epoch  16/30: 100%|████████████████████████████████████████| 80/80 [00:02<00:00, Train Loss: 0.3680]\n",
      "Epoch  17/30: 100%|████████████████████████████████████████| 80/80 [00:13<00:00, Train Loss: 0.0234]\n",
      "Epoch  18/30: 100%|████████████████████████████████████████| 80/80 [00:03<00:00, Train Loss: 0.0354]\n",
      "Epoch  19/30: 100%|████████████████████████████████████████| 80/80 [00:03<00:00, Train Loss: 0.2803]\n",
      "Epoch  20/30: 100%|████████████████████████████████████████| 80/80 [00:03<00:00, Train Loss: 0.5828]\n",
      "Epoch  21/30: 100%|████████████████████████████████████████| 80/80 [00:02<00:00, Train Loss: 1.0416]\n",
      "Epoch  22/30: 100%|████████████████████████████████████████| 80/80 [00:05<00:00, Train Loss: 1.4008]\n",
      "Epoch  23/30: 100%|████████████████████████████████████████| 80/80 [00:02<00:00, Train Loss: 1.4537]\n",
      "Epoch  24/30: 100%|████████████████████████████████████████| 80/80 [00:03<00:00, Train Loss: 1.4937]\n",
      "Epoch  25/30: 100%|████████████████████████████████████████| 80/80 [00:03<00:00, Train Loss: 1.4114]\n",
      "Epoch  26/30: 100%|████████████████████████████████████████| 80/80 [00:03<00:00, Train Loss: 1.5030]\n",
      "Epoch  27/30: 100%|████████████████████████████████████████| 80/80 [00:02<00:00, Train Loss: 1.4656]\n",
      "Epoch  28/30: 100%|████████████████████████████████████████| 80/80 [00:03<00:00, Train Loss: 1.4076]\n",
      "Epoch  29/30: 100%|████████████████████████████████████████| 80/80 [00:03<00:00, Train Loss: 1.3595]\n",
      "Epoch  30/30: 100%|████████████████████████████████████████| 80/80 [00:03<00:00, Train Loss: 1.1859]\n"
     ]
    },
    {
     "name": "stdout",
     "output_type": "stream",
     "text": [
      "CPU times: user 1min 36s, sys: 6.64 s, total: 1min 43s\n",
      "Wall time: 1min 56s\n"
     ]
    }
   ],
   "source": [
    "%%time\n",
    "history = model.fit(X_train, y_train, epochs=30)"
   ]
  },
  {
   "cell_type": "code",
   "execution_count": null,
   "id": "91f46a0c",
   "metadata": {},
   "outputs": [],
   "source": [
    "y_pred = model.predict(X_test)\n",
    "y_pred = [round(pred) for pred in y_pred]"
   ]
  },
  {
   "cell_type": "code",
   "execution_count": null,
   "id": "ad63508a",
   "metadata": {},
   "outputs": [],
   "source": [
    "y_test"
   ]
  },
  {
   "cell_type": "code",
   "execution_count": null,
   "id": "0408e0cd",
   "metadata": {},
   "outputs": [],
   "source": [
    "def print_accuracy(y_test, y_pred):\n",
    "    \n",
    "    matches = [test == pred for test, pred in zip(y_test, y_pred)]\n",
    "    \n",
    "    accuracy_dec = sum(matches)/len(matches)\n",
    "    \n",
    "    accuracy_pct = f'{100*accuracy_dec:.4}%'\n",
    "\n",
    "    print(f'Accuracy: {accuracy_pct}')"
   ]
  },
  {
   "cell_type": "code",
   "execution_count": null,
   "id": "91ec1833",
   "metadata": {},
   "outputs": [],
   "source": [
    "print_accuracy(y_test, y_pred)"
   ]
  },
  {
   "cell_type": "markdown",
   "id": "620658fd",
   "metadata": {},
   "source": [
    "__Model Visualization__\n",
    "\n",
    "If you'd like to see all the gradients flowing through the model, adjust the `fit()` function in `models.py` to return `y_pred` and run `plot_model()` on it. Here all our gradients are zeroed out because we aren't training the model - we're are only doing a forward pass, no backprop."
   ]
  },
  {
   "cell_type": "code",
   "execution_count": null,
   "id": "8344f828",
   "metadata": {},
   "outputs": [],
   "source": [
    "y_pred = model.predict(X_test, as_scalar=True)\n",
    "plot_model(y_pred[0])"
   ]
  },
  {
   "cell_type": "code",
   "execution_count": null,
   "id": "b7c713ec",
   "metadata": {},
   "outputs": [],
   "source": []
  }
 ],
 "metadata": {
  "kernelspec": {
   "display_name": "Python 3 (ipykernel)",
   "language": "python",
   "name": "python3"
  },
  "language_info": {
   "codemirror_mode": {
    "name": "ipython",
    "version": 3
   },
   "file_extension": ".py",
   "mimetype": "text/x-python",
   "name": "python",
   "nbconvert_exporter": "python",
   "pygments_lexer": "ipython3",
   "version": "3.9.7"
  }
 },
 "nbformat": 4,
 "nbformat_minor": 5
}
