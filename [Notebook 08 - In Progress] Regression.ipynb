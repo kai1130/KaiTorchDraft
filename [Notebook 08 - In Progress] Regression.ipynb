{
 "cells": [
  {
   "cell_type": "markdown",
   "id": "fac0a8f2",
   "metadata": {},
   "source": [
    "# Notebook 08 - Regression\n",
    "\n",
    "__[Example Notebook]__\n",
    "\n",
    "Note: the techniques I'm using to prepare the data aren't best practices, like:\n",
    "\n",
    "- using max-scaling to normalize data\n",
    "- the way I train test split\n",
    "- not shuffling the test data\n",
    "\n",
    "I'm just using quick and easy ways to prepare this data for use in the model, our goal here is just to showcase a working neural network :)"
   ]
  },
  {
   "cell_type": "code",
   "execution_count": 19,
   "id": "409dc2e7",
   "metadata": {},
   "outputs": [],
   "source": [
    "import kaitorch\n",
    "\n",
    "from kaitorch.models import Sequential\n",
    "from kaitorch.layers import Dense, Dropout\n",
    "from kaitorch.activations import LeakyReLU\n",
    "from kaitorch.optimizers import SGD\n",
    "from kaitorch.losses import MeanSquaredError\n",
    "from kaitorch.graph import plot_model"
   ]
  },
  {
   "cell_type": "code",
   "execution_count": 27,
   "id": "5009b355",
   "metadata": {},
   "outputs": [],
   "source": [
    "import pandas as pd\n",
    "from sklearn.datasets import load_diabetes\n",
    "data = load_diabetes()"
   ]
  },
  {
   "cell_type": "code",
   "execution_count": 28,
   "id": "d02034e8",
   "metadata": {},
   "outputs": [],
   "source": [
    "X = [list(features[:4]) for features in data['data']]\n",
    "y = data['target']"
   ]
  },
  {
   "cell_type": "code",
   "execution_count": 29,
   "id": "11062f7a",
   "metadata": {},
   "outputs": [
    {
     "data": {
      "text/plain": [
       "<AxesSubplot:>"
      ]
     },
     "execution_count": 29,
     "metadata": {},
     "output_type": "execute_result"
    },
    {
     "data": {
      "image/png": "[encoded data removed]",
      "text/plain": [
       "<Figure size 432x288 with 1 Axes>"
      ]
     },
     "metadata": {
      "needs_background": "light"
     },
     "output_type": "display_data"
    }
   ],
   "source": [
    "pd.Series(y).hist()"
   ]
  },
  {
   "cell_type": "code",
   "execution_count": 30,
   "id": "f01a4667",
   "metadata": {},
   "outputs": [],
   "source": [
    "mask = (y > 100) & (y <= 200)\n",
    "X = [x for (x, mask) in zip(X, mask) if mask == True]\n",
    "y = y[mask]/200"
   ]
  },
  {
   "cell_type": "code",
   "execution_count": 31,
   "id": "3d6be282",
   "metadata": {},
   "outputs": [
    {
     "data": {
      "text/plain": [
       "<AxesSubplot:>"
      ]
     },
     "execution_count": 31,
     "metadata": {},
     "output_type": "execute_result"
    },
    {
     "data": {
      "image/png": "[encoded data removed]",
      "text/plain": [
       "<Figure size 432x288 with 1 Axes>"
      ]
     },
     "metadata": {
      "needs_background": "light"
     },
     "output_type": "display_data"
    }
   ],
   "source": [
    "pd.Series(y).hist()"
   ]
  },
  {
   "cell_type": "code",
   "execution_count": 24,
   "id": "ceeef6ec",
   "metadata": {},
   "outputs": [
    {
     "data": {
      "text/plain": [
       "173"
      ]
     },
     "execution_count": 24,
     "metadata": {},
     "output_type": "execute_result"
    }
   ],
   "source": [
    "len(X)"
   ]
  },
  {
   "cell_type": "code",
   "execution_count": 32,
   "id": "bf7bfbba",
   "metadata": {},
   "outputs": [],
   "source": [
    "X_train = list(X[:150])\n",
    "y_train = list(y[:150])\n",
    "\n",
    "X_test = list(X[150:])\n",
    "y_test = list(y[150:])"
   ]
  },
  {
   "cell_type": "code",
   "execution_count": 33,
   "id": "84fa69f9",
   "metadata": {},
   "outputs": [],
   "source": [
    "import random\n",
    "\n",
    "shuffled_order = list(range(len(X_train)))\n",
    "random.shuffle(shuffled_order)"
   ]
  },
  {
   "cell_type": "code",
   "execution_count": 34,
   "id": "0087a89c",
   "metadata": {},
   "outputs": [],
   "source": [
    "X_train = [X_train[i] for i in shuffled_order]\n",
    "y_train = [y_train[i] for i in shuffled_order]"
   ]
  },
  {
   "cell_type": "code",
   "execution_count": 44,
   "id": "49faf015",
   "metadata": {},
   "outputs": [],
   "source": [
    "model = Sequential()\n",
    "\n",
    "model.add(Dense(16, activation=LeakyReLU(alpha=0.01), initializer='he_uniform'))\n",
    "model.add(Dense(16, activation=LeakyReLU(alpha=0.01), initializer='he_uniform'))\n",
    "model.add(Dropout(0.2))\n",
    "model.add(Dense(16, activation=LeakyReLU(alpha=0.01), initializer='he_uniform'))\n",
    "model.add(Dense(16, activation=LeakyReLU(alpha=0.01), initializer='he_uniform'))\n",
    "model.add(Dropout(0.2))\n",
    "model.add(Dense(16, activation=LeakyReLU(alpha=0.01), initializer='he_uniform'))\n",
    "model.add(Dense(6, activation=LeakyReLU(alpha=0.01), initializer='he_uniform'))\n",
    "model.add(Dense(1))\n",
    "\n",
    "model.compile(\n",
    "    optimizer=kaitorch.optimizers.SGD(lr=0.01),\n",
    "    loss=kaitorch.losses.MeanSquaredError()\n",
    ")"
   ]
  },
  {
   "cell_type": "code",
   "execution_count": 45,
   "id": "9e21dc58",
   "metadata": {},
   "outputs": [
    {
     "name": "stdout",
     "output_type": "stream",
     "text": [
      "___________________________________________________________________________________________________________________\n",
      "Layer (params)                                                           Output Shape     Params = Weights + Biases\n",
      "===================================================================================================================\n",
      "Dense(units=16, activation=LeakyReLU(α=0.01), initializer=he_uniform)    (None, 16)       80       64        16    \n",
      "___________________________________________________________________________________________________________________\n",
      "Dense(units=16, activation=LeakyReLU(α=0.01), initializer=he_uniform)    (None, 16)       272      256       16    \n",
      "___________________________________________________________________________________________________________________\n",
      "Dropout(dropout_rate=0.2)                                                (None, 16)       0        0         0     \n",
      "___________________________________________________________________________________________________________________\n",
      "Dense(units=16, activation=LeakyReLU(α=0.01), initializer=he_uniform)    (None, 16)       272      256       16    \n",
      "___________________________________________________________________________________________________________________\n",
      "Dense(units=16, activation=LeakyReLU(α=0.01), initializer=he_uniform)    (None, 16)       272      256       16    \n",
      "___________________________________________________________________________________________________________________\n",
      "Dropout(dropout_rate=0.2)                                                (None, 16)       0        0         0     \n",
      "___________________________________________________________________________________________________________________\n",
      "Dense(units=16, activation=LeakyReLU(α=0.01), initializer=he_uniform)    (None, 16)       272      256       16    \n",
      "___________________________________________________________________________________________________________________\n",
      "Dense(units=6, activation=LeakyReLU(α=0.01), initializer=he_uniform)     (None, 6)        102      96        6     \n",
      "___________________________________________________________________________________________________________________\n",
      "Dense(units=1, initializer=glorot_uniform)                               (None, 1)        7        6         1     \n",
      "===================================================================================================================\n",
      "Total Params: 1277\n",
      "___________________________________________________________________________________________________________________\n"
     ]
    }
   ],
   "source": [
    "model.build(input_size=4)\n",
    "model.summary()"
   ]
  },
  {
   "cell_type": "code",
   "execution_count": 46,
   "id": "1d610d33",
   "metadata": {},
   "outputs": [
    {
     "name": "stderr",
     "output_type": "stream",
     "text": [
      "Epoch   1/10: 100%|████████████████████████████████████████| 150/150 [00:14<00:00, Train Loss: 0.3991]\n",
      "Epoch   2/10: 100%|████████████████████████████████████████| 150/150 [00:04<00:00, Train Loss: 0.1943]\n",
      "Epoch   3/10: 100%|████████████████████████████████████████| 150/150 [00:07<00:00, Train Loss: 0.1221]\n",
      "Epoch   4/10: 100%|████████████████████████████████████████| 150/150 [00:05<00:00, Train Loss: 0.1640]\n",
      "Epoch   5/10: 100%|████████████████████████████████████████| 150/150 [00:06<00:00, Train Loss: 0.1270]\n",
      "Epoch   6/10: 100%|████████████████████████████████████████| 150/150 [00:07<00:00, Train Loss: 0.1391]\n",
      "Epoch   7/10: 100%|████████████████████████████████████████| 150/150 [00:05<00:00, Train Loss: 0.0967]\n",
      "Epoch   8/10: 100%|████████████████████████████████████████| 150/150 [00:06<00:00, Train Loss: 0.0944]\n",
      "Epoch   9/10: 100%|████████████████████████████████████████| 150/150 [00:06<00:00, Train Loss: 0.0910]\n",
      "Epoch  10/10: 100%|████████████████████████████████████████| 150/150 [00:05<00:00, Train Loss: 0.0834]\n"
     ]
    },
    {
     "name": "stdout",
     "output_type": "stream",
     "text": [
      "CPU times: user 1min 7s, sys: 3.67 s, total: 1min 11s\n",
      "Wall time: 1min 14s\n"
     ]
    }
   ],
   "source": [
    "%%time\n",
    "history = model.fit(X_train, y_train, epochs=10)"
   ]
  },
  {
   "cell_type": "code",
   "execution_count": 47,
   "id": "4009aa6b",
   "metadata": {},
   "outputs": [
    {
     "name": "stderr",
     "output_type": "stream",
     "text": [
      "Epoch   1/1: 100%|████████████████████████████████████████| 23/23 [00:04<00:00, Eval]\n"
     ]
    },
    {
     "data": {
      "text/plain": [
       "[0.68494408092614,\n",
       " 0.673175856069218,\n",
       " 0.6046590227922669,\n",
       " 0.6474924475992423,\n",
       " 0.6580018391481497,\n",
       " 0.689146766118369,\n",
       " 0.5466318038986371,\n",
       " 0.7099830116522015,\n",
       " 0.6319180091494099,\n",
       " 0.6403029784421712,\n",
       " 0.7122072332771159,\n",
       " 0.7306818907077303,\n",
       " 0.5755422499897783,\n",
       " 0.7136160008098933,\n",
       " 0.6644506746592922,\n",
       " 0.6165544112915432,\n",
       " 0.7481221476036245,\n",
       " 0.617810514474268,\n",
       " 0.7070537847197216,\n",
       " 0.7042522016180319,\n",
       " 0.6137978618796764,\n",
       " 0.6328571165270731,\n",
       " 0.6064811045042819]"
      ]
     },
     "execution_count": 47,
     "metadata": {},
     "output_type": "execute_result"
    }
   ],
   "source": [
    "y_pred = model.predict(X_test)\n",
    "y_pred"
   ]
  },
  {
   "cell_type": "code",
   "execution_count": 48,
   "id": "106e3739",
   "metadata": {},
   "outputs": [
    {
     "data": {
      "text/plain": [
       "[0.52,\n",
       " 0.66,\n",
       " 0.55,\n",
       " 0.59,\n",
       " 0.99,\n",
       " 0.875,\n",
       " 0.84,\n",
       " 0.7,\n",
       " 0.945,\n",
       " 0.905,\n",
       " 0.68,\n",
       " 0.565,\n",
       " 0.655,\n",
       " 0.87,\n",
       " 0.73,\n",
       " 0.555,\n",
       " 0.76,\n",
       " 0.6,\n",
       " 0.915,\n",
       " 0.865,\n",
       " 0.89,\n",
       " 0.52,\n",
       " 0.66]"
      ]
     },
     "execution_count": 48,
     "metadata": {},
     "output_type": "execute_result"
    }
   ],
   "source": [
    "y_test"
   ]
  },
  {
   "cell_type": "code",
   "execution_count": 43,
   "id": "783d9254",
   "metadata": {},
   "outputs": [
    {
     "data": {
      "text/plain": [
       "[(0.52, 0.48908722230293594),\n",
       " (0.66, 0.6131444009260177),\n",
       " (0.55, 0.5942762284789918),\n",
       " (0.59, 0.5484455900745054),\n",
       " (0.99, 0.5693044533381245),\n",
       " (0.875, 0.652525088963686),\n",
       " (0.84, 0.582585185882988),\n",
       " (0.7, 0.613976555514797),\n",
       " (0.945, 0.6123524514625867),\n",
       " (0.905, 0.5884502958275108),\n",
       " (0.68, 0.5849577609715605),\n",
       " (0.565, 0.5438691525995294),\n",
       " (0.655, 0.605369854747896),\n",
       " (0.87, 0.5451288453276013),\n",
       " (0.73, 0.55726868881047),\n",
       " (0.555, 0.5751628643339932),\n",
       " (0.76, 0.4805742259638366),\n",
       " (0.6, 0.5787922973720054),\n",
       " (0.915, 0.5059549009522635),\n",
       " (0.865, 0.5994067383220153),\n",
       " (0.89, 0.622578686067385),\n",
       " (0.52, 0.5547656650044266),\n",
       " (0.66, 0.5783910528616124)]"
      ]
     },
     "execution_count": 43,
     "metadata": {},
     "output_type": "execute_result"
    }
   ],
   "source": [
    "list(zip(y_test, y_pred))"
   ]
  },
  {
   "cell_type": "code",
   "execution_count": null,
   "id": "01c392df",
   "metadata": {},
   "outputs": [],
   "source": [
    "class Hi:\n",
    "    def __init__(self):\n",
    "        pass\n",
    "    \n",
    "    def __repr__(self):\n",
    "        return 'there'\n",
    "\n",
    "    def __str__(self):\n",
    "        return 'here'\n",
    "    "
   ]
  },
  {
   "cell_type": "code",
   "execution_count": null,
   "id": "26cd44d3",
   "metadata": {},
   "outputs": [],
   "source": [
    "a = Hi()"
   ]
  },
  {
   "cell_type": "code",
   "execution_count": null,
   "id": "37105bf5",
   "metadata": {},
   "outputs": [],
   "source": [
    "print(a.__repr__())"
   ]
  },
  {
   "cell_type": "code",
   "execution_count": null,
   "id": "48df3570",
   "metadata": {},
   "outputs": [],
   "source": []
  }
 ],
 "metadata": {
  "kernelspec": {
   "display_name": "Python 3 (ipykernel)",
   "language": "python",
   "name": "python3"
  },
  "language_info": {
   "codemirror_mode": {
    "name": "ipython",
    "version": 3
   },
   "file_extension": ".py",
   "mimetype": "text/x-python",
   "name": "python",
   "nbconvert_exporter": "python",
   "pygments_lexer": "ipython3",
   "version": "3.9.7"
  }
 },
 "nbformat": 4,
 "nbformat_minor": 5
}
