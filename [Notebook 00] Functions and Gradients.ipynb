{
 "cells": [
  {
   "cell_type": "markdown",
   "id": "0a648ddc",
   "metadata": {},
   "source": [
    "# Notebook 00 - Functions and Gradients\n",
    "\n",
    "__I thought the first notebook should be notebook 0 for a couple of reasons:__\n",
    "\n",
    "1) I thought notebook 1 should be the first that goes over neural networks - this one just covers functions and gradients\n",
    "\n",
    "2) Python is 0-indexed\n",
    "\n",
    "_**kinda poetic right?**_ \n",
    "\n",
    "Actually the real reason is because there's 11 notebooks and the numbered emojis i used in my LinkedIn post only go from 0️⃣ to 🔟.\n",
    "\n",
    "If there was an 11 emoji this would've been notebook 1.\n",
    "\n",
    "**Anyways, I've wasted enough your precious time - let's jump right into the content:**\n"
   ]
  },
  {
   "cell_type": "markdown",
   "id": "0a859011",
   "metadata": {},
   "source": [
    "## Machine Learning\n",
    "\n",
    "I like to define machine learning as a class of algorithms that attempt to learn rules that map inputs to outputs.\n",
    "\n",
    "If you momentarily flashed back to elementary school maths class - yes, machine learning algorithms are essentially very large functions. Neural networks included.\n",
    "\n",
    "__So, if machine learning models are just functions, what makes them so special? Can't we just write out the function?__\n",
    "\n",
    "Well, we could. For example, its possible to calculate a line of best fit by hand.\n",
    "\n",
    "But once our data can no longer be visualized on a 2D plane, once the relationship between inputs and outputs becomes non-linear, once our dataset becomes massive - finding this function by hand becomes increasingly hard.\n",
    "\n",
    "So what makes machine learning models special is that given a set of inputs and outputs, __they can learn the function for us.__\n",
    "\n",
    "Different machine learning algorithms use different logic to learn the function and different parameters to represent the function (for example, linear regression uses slopes and intercepts).\n",
    "\n",
    "### Algorithms vs Models\n",
    "\n",
    "The algorithm is the logic, the set of rules/instructions/procedures used to learn the data.\n",
    "\n",
    "The model is the result of iteratively \"training\" an algorithm on a dataset, and finding the value of parameters (think slope and intercept) for the function that best maps inputs to outputs. This model can then be used to make predictions on unseen data.\n",
    "\n",
    "### Why Neural Networks?\n",
    "\n",
    "- They're really good at predicting things (this is a vast generalization but i'll leave this to you to look into)\n",
    "- They're fun to train (especially really big ones)\n",
    "\n",
    "But as I mentioned earlier, we won't be touching neural networks in this notebook. __Lets start with functions.__"
   ]
  },
  {
   "cell_type": "code",
   "execution_count": 2,
   "id": "e4746c4d",
   "metadata": {},
   "outputs": [],
   "source": [
    "import math\n",
    "import random\n",
    "import numpy as np\n",
    "import matplotlib.pyplot as plt\n",
    "%matplotlib inline"
   ]
  },
  {
   "cell_type": "markdown",
   "id": "944374bb",
   "metadata": {},
   "source": [
    "# Functions\n",
    "\n",
    "Since Machine Learning algorithms are essentially very large functions (we'll go deeper into this), this is our motivation to start the discussion with functions.\n",
    "\n",
    "We know a function typically looks something like this:\n",
    "\n",
    "$$f(x) = 2x^2 - 3x + 4$$\n",
    "\n",
    "Where the function $f$ takes input $x$, and produces output $f(x)$. The rule for mapping input $x$ to output $f(x)$ is the expression on the right of the equals sign.\n",
    "\n",
    "Let's write this function in python:"
   ]
  },
  {
   "cell_type": "code",
   "execution_count": 3,
   "id": "ac3d5fa0",
   "metadata": {},
   "outputs": [],
   "source": [
    "def f(x):\n",
    "    return 2*x**2 - 3*x + 4"
   ]
  },
  {
   "cell_type": "markdown",
   "id": "11f25eb8",
   "metadata": {},
   "source": [
    "This is what it looks like for $-6 \\leq x \\leq 6$:"
   ]
  },
  {
   "cell_type": "code",
   "execution_count": 4,
   "id": "c709b583",
   "metadata": {},
   "outputs": [
    {
     "data": {
      "image/png": "[encoded data removed]",
      "text/plain": [
       "<Figure size 432x288 with 1 Axes>"
      ]
     },
     "metadata": {
      "needs_background": "light"
     },
     "output_type": "display_data"
    }
   ],
   "source": [
    "x = np.arange(-6, 6, step=0.1)\n",
    "fx = f(x)\n",
    "plt.plot(x, fx);"
   ]
  },
  {
   "cell_type": "markdown",
   "id": "ea00d38b",
   "metadata": {},
   "source": [
    "Here are some outputs of the function for various inputs:"
   ]
  },
  {
   "cell_type": "code",
   "execution_count": 5,
   "id": "bd7f6017",
   "metadata": {},
   "outputs": [
    {
     "name": "stdout",
     "output_type": "stream",
     "text": [
      "When x = -3, the value of f(x) = 31\n",
      "When x = -1, the value of f(x) = 9\n",
      "When x =  2, the value of f(x) = 6\n",
      "When x =  4, the value of f(x) = 24\n"
     ]
    }
   ],
   "source": [
    "for x in [-3, -1, 2, 4]:\n",
    "    print(f'When x = {x:2}, the value of f(x) = {f(x)}')"
   ]
  },
  {
   "cell_type": "markdown",
   "id": "506f8267",
   "metadata": {},
   "source": [
    "# Gradients\n",
    "\n",
    "Another useful thing to know about functions is the slope (or gradient) of a function.\n",
    "\n",
    "If we revisit our primary school maths class, we'll remember slope of a line equals rise over run, where rise is the change in the vertical axis $f(x)$, and run is the change in the vertical axis $x$.\n",
    "\n",
    "$$\\text{Slope} = \\frac{\\text{Rise}}{\\text{Run}} = \\frac{\\Delta f(x)}{\\Delta x} $$\n",
    "\n",
    "__This is how we were taught to do it:__\n",
    "\n",
    "1) Pick the a value of $x$ that you want to know the slope of\n",
    "\n",
    "2) Calculate the height of the function at that point $f(x)$.\n",
    "\n",
    "3) Pick another value $x+h$, where $h$ is a small value, so $x+h$ is very close to $x$\n",
    "\n",
    "4) Calculate the new height of the function at that point  $f(x+h)$.\n",
    "\n",
    "5) Run is expressed as $\\Delta x = (x+h) - x$\n",
    "\n",
    "6) Rise is expressed as $\\Delta f(x) = f(x+h) - f(x)$.\n",
    "\n",
    "7) Divide rise by run, this is the slope!\n",
    "\n",
    "__Here it is condensed into one equation:__\n",
    "\n",
    "$$\\text{Slope} = \\frac{f(x+h) - f(x)}{(x+h) - x} =\\frac{f(x+h) - f(x)}{h} $$\n",
    "\n",
    "This gives you the slope of a straight line. Inconveniently, it's trivial to point out that not all functions, including the one above, are straight lines.\n",
    "\n",
    "However, if you look __very very closely__ 👀, they start to look like lines.\n",
    "\n",
    "Here's an example with the function we previously defined, but instead of looking at $-6 \\leq x \\leq 6$, we're looking at $1.000 \\leq x \\leq 1.001$"
   ]
  },
  {
   "cell_type": "code",
   "execution_count": 6,
   "id": "68b8be28",
   "metadata": {},
   "outputs": [
    {
     "data": {
      "image/png": "[encoded data removed]",
      "text/plain": [
       "<Figure size 432x288 with 1 Axes>"
      ]
     },
     "metadata": {
      "needs_background": "light"
     },
     "output_type": "display_data"
    }
   ],
   "source": [
    "x = np.arange(1.000, 1.001, step=1e-5)\n",
    "fx = f(x)\n",
    "plt.plot(x, fx)\n",
    "plt.title('see? :)', fontweight='bold', fontsize=20);"
   ]
  },
  {
   "cell_type": "markdown",
   "id": "7d26701b",
   "metadata": {},
   "source": [
    "So, if we make our $h$ small enough, we can get a pretty good approximation of the slope!\n",
    "\n",
    "Here's our calculation of the (approximate) slope of what's shown above, with $x=1.000$ and $h=0.001$"
   ]
  },
  {
   "cell_type": "code",
   "execution_count": 7,
   "id": "25bbdb22",
   "metadata": {},
   "outputs": [
    {
     "data": {
      "text/plain": [
       "1.0019999999997253"
      ]
     },
     "execution_count": 7,
     "metadata": {},
     "output_type": "execute_result"
    }
   ],
   "source": [
    "h = 0.001\n",
    "x = 1.000\n",
    "(f(x+h)-f(x))/h"
   ]
  },
  {
   "cell_type": "markdown",
   "id": "26939455",
   "metadata": {},
   "source": [
    "Our original function is relatively simple (compared to a neural network), so we can directly check our result by calculating the derivative of the function.\n",
    "\n",
    "$$f(x) = 2x^2 + 3x - 4$$\n",
    "\n",
    "Since this is a polynomial function, we can find the derivative entirely using the power rule, which states that the derivative expressions in the form of $x^n$ can be calculated as:\n",
    "\n",
    "$$ \\frac{d}{dx} x^n = n \\cdot x^{n-1} $$\n",
    "\n",
    "So, going element-wise:\n",
    "- $ \\frac{d}{dx} 2x^2 = 2 \\cdot 2x^1 = 4x$\n",
    "- $ \\frac{d}{dx} -3x^1 = 1 \\cdot -3x^0 = -3$\n",
    "- $ \\frac{d}{dx} 4 = 0$\n",
    "\n",
    "Adding these up, we get:\n",
    "$$\\frac{d}{dx}f(x) = f'(x) = 4x - 3$$\n",
    "\n",
    "And plugging in x = 1, we get $4(1) - 3 = 1$, which is pretty close to what we calculated in the cell above - but not exact."
   ]
  },
  {
   "cell_type": "code",
   "execution_count": 17,
   "id": "1de0304a",
   "metadata": {},
   "outputs": [],
   "source": [
    "def d_f(x):\n",
    "    return 4*x - 3"
   ]
  },
  {
   "cell_type": "code",
   "execution_count": 18,
   "id": "d379e473",
   "metadata": {},
   "outputs": [
    {
     "data": {
      "text/plain": [
       "1"
      ]
     },
     "execution_count": 18,
     "metadata": {},
     "output_type": "execute_result"
    }
   ],
   "source": [
    "d_f(1)"
   ]
  },
  {
   "cell_type": "markdown",
   "id": "e2db0efa",
   "metadata": {},
   "source": [
    "Now, let's try making our interval $h$ 10x, 100x, and 1000x smaller:"
   ]
  },
  {
   "cell_type": "code",
   "execution_count": 19,
   "id": "b25b171b",
   "metadata": {},
   "outputs": [
    {
     "data": {
      "text/plain": [
       "1.000199999996454"
      ]
     },
     "execution_count": 19,
     "metadata": {},
     "output_type": "execute_result"
    }
   ],
   "source": [
    "h = 0.001/10\n",
    "x = 1.000\n",
    "(f(x+h)-f(x))/h"
   ]
  },
  {
   "cell_type": "code",
   "execution_count": 20,
   "id": "ad56fb26",
   "metadata": {},
   "outputs": [
    {
     "data": {
      "text/plain": [
       "1.000020000008206"
      ]
     },
     "execution_count": 20,
     "metadata": {},
     "output_type": "execute_result"
    }
   ],
   "source": [
    "h = 0.001/100\n",
    "x = 1.000\n",
    "(f(x+h)-f(x))/h"
   ]
  },
  {
   "cell_type": "code",
   "execution_count": 21,
   "id": "d4ddc56e",
   "metadata": {},
   "outputs": [
    {
     "data": {
      "text/plain": [
       "1.0000020003175791"
      ]
     },
     "execution_count": 21,
     "metadata": {},
     "output_type": "execute_result"
    }
   ],
   "source": [
    "h = 0.001/1000\n",
    "x = 1.000\n",
    "(f(x+h)-f(x))/h"
   ]
  },
  {
   "cell_type": "markdown",
   "id": "41a30732",
   "metadata": {},
   "source": [
    "You'll notice as $h$ gets smaller, we're getting closer and closer to the actual derivative - actually, let's just plot it.\n",
    "\n",
    "On the horizontal axis is our decreasing step sizes $h$, and on the vertical axis is the difference between the approximate slope and the actual derivative:"
   ]
  },
  {
   "cell_type": "code",
   "execution_count": 34,
   "id": "048faa9e",
   "metadata": {},
   "outputs": [
    {
     "data": {
      "image/png": "[encoded data removed]",
      "text/plain": [
       "<Figure size 432x288 with 1 Axes>"
      ]
     },
     "metadata": {
      "needs_background": "light"
     },
     "output_type": "display_data"
    }
   ],
   "source": [
    "x = 1\n",
    "h = np.array([1e-2, 1e-3, 1e-4, 1e-5, 1e-6, 1e-7])\n",
    "dfx = (f(x+h)-f(x))/h\n",
    "plt.plot(h, dfx - d_f(x))\n",
    "plt.xscale('log')\n",
    "plt.gca().invert_xaxis()"
   ]
  },
  {
   "cell_type": "markdown",
   "id": "52d8f626",
   "metadata": {},
   "source": [
    "In fact, as we shrink $h$ towards an infinitesimally small number, we get the definition of the __gradient__ (or derivative). We can essentially think of this as the slope at any point of a curve.\n",
    "\n",
    "$$\\text{Gradient} = \\lim_{h \\rightarrow 0} \\frac{f(x+h) - f(x)}{h}$$\n",
    "\n",
    "Expressed differently, if we move the input variable $x$ by a little value $h$, we can expect a change in the value of $f(x)$ to be the gradient. The gradient is how changes in $x$ affects $f(x)$.\n",
    "\n",
    "If we fast forward a bit to high school math, we express this using the following notation:\n",
    "\n",
    "$$\\frac{\\partial}{\\partial x} f(x) =  \\lim_{h \\rightarrow 0} \\frac{f(x+h) - f(x)}{h}$$\n",
    "\n",
    "**The gradient is the derivative of $f(x)$ with respect to $x$.** This notation is particularly important when our functions start to take more than one input, where each input has its own affect on the output. The simplest example  brings us back to something we learnt kindergarten - addition:\n",
    "\n",
    "$$f(a, b) = a + b$$\n",
    "\n",
    "This is a bit too trivial to use as an example though, so let's throw in multiplication too:\n",
    "\n",
    "$$f(a, b, c) = a*b + c$$\n"
   ]
  },
  {
   "cell_type": "code",
   "execution_count": 75,
   "id": "8b36d0b7",
   "metadata": {},
   "outputs": [],
   "source": [
    "def f(a, b, c):\n",
    "    return a * b + c"
   ]
  },
  {
   "cell_type": "markdown",
   "id": "b2bb4706",
   "metadata": {},
   "source": [
    "This time, we can't plot it nicely - we would need 4 dimensions (one each for $a$, $b$, $c$, and $f(a,b,c)$).\n",
    "\n",
    "But, our previous way of calculating gradient using small $h$ still works:"
   ]
  },
  {
   "cell_type": "code",
   "execution_count": 84,
   "id": "9c6a13e0",
   "metadata": {},
   "outputs": [
    {
     "data": {
      "text/plain": [
       "1.0"
      ]
     },
     "execution_count": 84,
     "metadata": {},
     "output_type": "execute_result"
    }
   ],
   "source": [
    "# pick a small h\n",
    "h = 0.01\n",
    "\n",
    "# pick some values for the inputs\n",
    "a = 2.0\n",
    "b = -1.0\n",
    "c = 3.0\n",
    "\n",
    "# calculate f(a,b,c)\n",
    "f(a, b, c)"
   ]
  },
  {
   "cell_type": "markdown",
   "id": "12e10258",
   "metadata": {},
   "source": [
    "Now, we can estimate how changes in each variable affects the output."
   ]
  },
  {
   "cell_type": "code",
   "execution_count": 85,
   "id": "61cc7be9",
   "metadata": {},
   "outputs": [
    {
     "data": {
      "text/plain": [
       "-0.9999999999999787"
      ]
     },
     "execution_count": 85,
     "metadata": {},
     "output_type": "execute_result"
    }
   ],
   "source": [
    "gradient_a = (f(a+h, b, c) - f(a, b, c)) / h\n",
    "gradient_a"
   ]
  },
  {
   "cell_type": "code",
   "execution_count": 86,
   "id": "ab1ffd3c",
   "metadata": {},
   "outputs": [
    {
     "data": {
      "text/plain": [
       "2.0000000000000018"
      ]
     },
     "execution_count": 86,
     "metadata": {},
     "output_type": "execute_result"
    }
   ],
   "source": [
    "gradient_b = (f(a, b+h, c) - f(a, b, c)) / h\n",
    "gradient_b"
   ]
  },
  {
   "cell_type": "code",
   "execution_count": 87,
   "id": "f48b226d",
   "metadata": {},
   "outputs": [
    {
     "data": {
      "text/plain": [
       "0.9999999999999787"
      ]
     },
     "execution_count": 87,
     "metadata": {},
     "output_type": "execute_result"
    }
   ],
   "source": [
    "gradient_c = (f(a, b, c+h) - f(a, b, c)) / h\n",
    "gradient_c"
   ]
  },
  {
   "cell_type": "markdown",
   "id": "39cc236b",
   "metadata": {},
   "source": [
    "The reason we get the trailing 0/9s and not nice whole numbers is a result the Python of not being able to nicely express very small decimal numbers in binary (0s & 1s) - this is called floating point precision error. It's also the same reason that this happens:"
   ]
  },
  {
   "cell_type": "code",
   "execution_count": 132,
   "id": "a3761868",
   "metadata": {},
   "outputs": [
    {
     "data": {
      "text/plain": [
       "0.30000000000000004"
      ]
     },
     "execution_count": 132,
     "metadata": {},
     "output_type": "execute_result"
    }
   ],
   "source": [
    "0.1 + 0.2"
   ]
  },
  {
   "cell_type": "markdown",
   "id": "09a3b911",
   "metadata": {},
   "source": [
    "But overlooking that and rounding those numbers to integers, these values make complete sense:\n",
    " - If $a$ increases from 2 to 3, it will be multiplied by -1 (the value of $b$) and change the output by -1.\n",
    " - If $b$ increases from -1 to 0, it will be multiplied by 2 (the value of $a$) and change the output by 2.\n",
    " - If $c$ increases from 3 to 4, it will obviously change the output by 1.\n",
    " \n",
    "Pick some different values for $a$, $b$, $c$ and observe how the gradients change for yourself. You'll notice that:\n",
    " - The gradient of $a$ is always $b$, or $\\frac{\\partial f(a, b, c)}{\\partial a} = b$\n",
    " - The gradient of $b$ is always $a$, or $\\frac{\\partial f(a, b, c)}{\\partial b} = a$\n",
    " - The gradient of $c$ is always $1$, or $\\frac{\\partial f(a, b, c)}{\\partial c} = 1$"
   ]
  },
  {
   "cell_type": "markdown",
   "id": "d7c78067",
   "metadata": {},
   "source": [
    "**Revisiting our original function**\n",
    "$$f(a, b, c) = a * b + c$$\n",
    "\n",
    "Although this example was pretty straightforward, calculating derivatives of functions with multiple (more than 2) variables can get complicated.\n",
    "\n",
    "Luckily, if we recall order of operations, we need not calculate everything at once - we can calculate one thing at a time, dealing with 2 inputs and 1 operation at each step. In this case:\n",
    "\n",
    "Step 1) Calculate $a*b = 2 * -1 = -2$\n",
    "\n",
    "Step 2) Add $c$ to get $(a*b) + c = -2 + 3 = 1$\n",
    "\n",
    "Once we break it down like this, our observations make sense:\n",
    "\n",
    "- $\\frac{d}{da} (a\\cdot b) = ((1\\cdot a^0) \\cdot b) = b$\n",
    "- $\\frac{d}{db} (a\\cdot b) = (a \\cdot (1\\cdot b^0)) = a$\n",
    "- $\\frac{d}{dc} ((a \\cdot b) + c) = (0 + (1\\cdot c^0)) = 1$"
   ]
  },
  {
   "cell_type": "markdown",
   "id": "fcebcd42",
   "metadata": {},
   "source": [
    "# Wrapping Up\n",
    "\n",
    "In hopes of keeping each notebook relatively short and digestible we'll end the discussion on functions and gradients here. You might be asking why we spent a whole notebook deriving derivatives (lol), you might be thinking there's no way a neural network uses this \"tiny $h$\" approach right? And you would be correct.\n",
    "\n",
    "But we went the long way because I think an intuitive and fundamental understanding of gradients is pretty important to understanding neural networks.\n",
    "\n",
    "__Here are the main takeaways:__\n",
    "1) The gradient is how changes in an input variable affects the output.\n",
    "\n",
    "2) We can break down complex functions into smaller parts and \"chain\" them together."
   ]
  },
  {
   "cell_type": "code",
   "execution_count": null,
   "id": "48b59279",
   "metadata": {},
   "outputs": [],
   "source": []
  }
 ],
 "metadata": {
  "kernelspec": {
   "display_name": "Python 3 (ipykernel)",
   "language": "python",
   "name": "python3"
  },
  "language_info": {
   "codemirror_mode": {
    "name": "ipython",
    "version": 3
   },
   "file_extension": ".py",
   "mimetype": "text/x-python",
   "name": "python",
   "nbconvert_exporter": "python",
   "pygments_lexer": "ipython3",
   "version": "3.9.7"
  }
 },
 "nbformat": 4,
 "nbformat_minor": 5
}
